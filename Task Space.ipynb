{
 "cells": [
  {
   "cell_type": "code",
   "execution_count": 2,
   "id": "8085e011",
   "metadata": {},
   "outputs": [],
   "source": [
    "import pandas as pd\n",
    "import numpy as np\n",
    "import matplotlib.pyplot as plt"
   ]
  },
  {
   "cell_type": "code",
   "execution_count": null,
   "id": "f0e94e33",
   "metadata": {},
   "outputs": [],
   "source": []
  },
  {
   "cell_type": "code",
   "execution_count": 3,
   "id": "31a921ff",
   "metadata": {},
   "outputs": [],
   "source": [
    "Data = pd.read_excel(r'C:\\Users\\91895\\Downloads\\Dataset.xlSX')"
   ]
  },
  {
   "cell_type": "code",
   "execution_count": 4,
   "id": "02aa8fd2",
   "metadata": {},
   "outputs": [
    {
     "data": {
      "text/html": [
       "<div>\n",
       "<style scoped>\n",
       "    .dataframe tbody tr th:only-of-type {\n",
       "        vertical-align: middle;\n",
       "    }\n",
       "\n",
       "    .dataframe tbody tr th {\n",
       "        vertical-align: top;\n",
       "    }\n",
       "\n",
       "    .dataframe thead th {\n",
       "        text-align: right;\n",
       "    }\n",
       "</style>\n",
       "<table border=\"1\" class=\"dataframe\">\n",
       "  <thead>\n",
       "    <tr style=\"text-align: right;\">\n",
       "      <th></th>\n",
       "      <th>id_bank</th>\n",
       "      <th>specialisation</th>\n",
       "      <th>country</th>\n",
       "      <th>bank_Name</th>\n",
       "      <th>Total_asset_in_million_USD</th>\n",
       "      <th>ROE</th>\n",
       "    </tr>\n",
       "  </thead>\n",
       "  <tbody>\n",
       "    <tr>\n",
       "      <th>0</th>\n",
       "      <td>2</td>\n",
       "      <td>Commercial Banks</td>\n",
       "      <td>BANGLADESH</td>\n",
       "      <td>AB Bank Ltd</td>\n",
       "      <td>3204.829000</td>\n",
       "      <td>7.140000</td>\n",
       "    </tr>\n",
       "    <tr>\n",
       "      <th>1</th>\n",
       "      <td>5</td>\n",
       "      <td>Commercial Banks</td>\n",
       "      <td>UNITED ARAB EMIRATES</td>\n",
       "      <td>Abu Dhabi Commercial Bank</td>\n",
       "      <td>55553.300000</td>\n",
       "      <td>19.969999</td>\n",
       "    </tr>\n",
       "    <tr>\n",
       "      <th>2</th>\n",
       "      <td>6</td>\n",
       "      <td>Islamic Banks</td>\n",
       "      <td>UNITED ARAB EMIRATES</td>\n",
       "      <td>Abu Dhabi Islamic Bank - Public Joint Stock Co.</td>\n",
       "      <td>30470.742000</td>\n",
       "      <td>23.219999</td>\n",
       "    </tr>\n",
       "    <tr>\n",
       "      <th>3</th>\n",
       "      <td>9</td>\n",
       "      <td>Commercial Banks</td>\n",
       "      <td>MALAYSIA</td>\n",
       "      <td>Affin Bank</td>\n",
       "      <td>13829.385000</td>\n",
       "      <td>10.730000</td>\n",
       "    </tr>\n",
       "    <tr>\n",
       "      <th>4</th>\n",
       "      <td>10</td>\n",
       "      <td>Islamic Banks</td>\n",
       "      <td>MALAYSIA</td>\n",
       "      <td>Affin Islamic Bank Berhad</td>\n",
       "      <td>3640.429250</td>\n",
       "      <td>9.000000</td>\n",
       "    </tr>\n",
       "    <tr>\n",
       "      <th>...</th>\n",
       "      <td>...</td>\n",
       "      <td>...</td>\n",
       "      <td>...</td>\n",
       "      <td>...</td>\n",
       "      <td>...</td>\n",
       "      <td>...</td>\n",
       "    </tr>\n",
       "    <tr>\n",
       "      <th>233</th>\n",
       "      <td>343</td>\n",
       "      <td>Commercial Banks</td>\n",
       "      <td>PAKISTAN</td>\n",
       "      <td>United Bank Limited</td>\n",
       "      <td>11063.361000</td>\n",
       "      <td>20.580000</td>\n",
       "    </tr>\n",
       "    <tr>\n",
       "      <th>234</th>\n",
       "      <td>344</td>\n",
       "      <td>Commercial Banks</td>\n",
       "      <td>BANGLADESH</td>\n",
       "      <td>United Commercial Bank Ltd</td>\n",
       "      <td>3376.845750</td>\n",
       "      <td>17.290001</td>\n",
       "    </tr>\n",
       "    <tr>\n",
       "      <th>235</th>\n",
       "      <td>345</td>\n",
       "      <td>Commercial Banks</td>\n",
       "      <td>MALAYSIA</td>\n",
       "      <td>United Overseas Bank (Malaysia) Bhd.</td>\n",
       "      <td>26903.062000</td>\n",
       "      <td>19.629999</td>\n",
       "    </tr>\n",
       "    <tr>\n",
       "      <th>236</th>\n",
       "      <td>346</td>\n",
       "      <td>Commercial Banks</td>\n",
       "      <td>BANGLADESH</td>\n",
       "      <td>Uttara Bank Limited</td>\n",
       "      <td>1786.650125</td>\n",
       "      <td>12.160000</td>\n",
       "    </tr>\n",
       "    <tr>\n",
       "      <th>237</th>\n",
       "      <td>349</td>\n",
       "      <td>Commercial Banks</td>\n",
       "      <td>TURKEY</td>\n",
       "      <td>Yapi Ve Kredi Bankasi A.S.</td>\n",
       "      <td>78070.360000</td>\n",
       "      <td>10.220000</td>\n",
       "    </tr>\n",
       "  </tbody>\n",
       "</table>\n",
       "<p>238 rows × 6 columns</p>\n",
       "</div>"
      ],
      "text/plain": [
       "     id_bank    specialisation               country  \\\n",
       "0          2  Commercial Banks            BANGLADESH   \n",
       "1          5  Commercial Banks  UNITED ARAB EMIRATES   \n",
       "2          6     Islamic Banks  UNITED ARAB EMIRATES   \n",
       "3          9  Commercial Banks              MALAYSIA   \n",
       "4         10     Islamic Banks              MALAYSIA   \n",
       "..       ...               ...                   ...   \n",
       "233      343  Commercial Banks              PAKISTAN   \n",
       "234      344  Commercial Banks            BANGLADESH   \n",
       "235      345  Commercial Banks              MALAYSIA   \n",
       "236      346  Commercial Banks            BANGLADESH   \n",
       "237      349  Commercial Banks                TURKEY   \n",
       "\n",
       "                                           bank_Name  \\\n",
       "0                                        AB Bank Ltd   \n",
       "1                          Abu Dhabi Commercial Bank   \n",
       "2    Abu Dhabi Islamic Bank - Public Joint Stock Co.   \n",
       "3                                         Affin Bank   \n",
       "4                          Affin Islamic Bank Berhad   \n",
       "..                                               ...   \n",
       "233                              United Bank Limited   \n",
       "234                       United Commercial Bank Ltd   \n",
       "235             United Overseas Bank (Malaysia) Bhd.   \n",
       "236                              Uttara Bank Limited   \n",
       "237                       Yapi Ve Kredi Bankasi A.S.   \n",
       "\n",
       "     Total_asset_in_million_USD        ROE  \n",
       "0                   3204.829000   7.140000  \n",
       "1                  55553.300000  19.969999  \n",
       "2                  30470.742000  23.219999  \n",
       "3                  13829.385000  10.730000  \n",
       "4                   3640.429250   9.000000  \n",
       "..                          ...        ...  \n",
       "233                11063.361000  20.580000  \n",
       "234                 3376.845750  17.290001  \n",
       "235                26903.062000  19.629999  \n",
       "236                 1786.650125  12.160000  \n",
       "237                78070.360000  10.220000  \n",
       "\n",
       "[238 rows x 6 columns]"
      ]
     },
     "execution_count": 4,
     "metadata": {},
     "output_type": "execute_result"
    }
   ],
   "source": [
    "Data"
   ]
  },
  {
   "cell_type": "code",
   "execution_count": 5,
   "id": "4a78d533",
   "metadata": {},
   "outputs": [
    {
     "data": {
      "text/plain": [
       "array(['Commercial Banks', 'Islamic Banks'], dtype=object)"
      ]
     },
     "execution_count": 5,
     "metadata": {},
     "output_type": "execute_result"
    }
   ],
   "source": [
    "Data['specialisation'].unique()"
   ]
  },
  {
   "cell_type": "code",
   "execution_count": 6,
   "id": "93a9d6f1",
   "metadata": {},
   "outputs": [],
   "source": [
    "Data_Islamic = Data[Data['specialisation'] == 'Islamic Banks']"
   ]
  },
  {
   "cell_type": "code",
   "execution_count": 7,
   "id": "d855b3e3",
   "metadata": {},
   "outputs": [
    {
     "data": {
      "text/plain": [
       "(59, 6)"
      ]
     },
     "execution_count": 7,
     "metadata": {},
     "output_type": "execute_result"
    }
   ],
   "source": [
    "Data_Islamic.shape"
   ]
  },
  {
   "cell_type": "code",
   "execution_count": 8,
   "id": "e1f02b23",
   "metadata": {},
   "outputs": [
    {
     "data": {
      "text/plain": [
       "array(['UNITED ARAB EMIRATES', 'MALAYSIA', 'KUWAIT', 'SAUDI ARABIA',\n",
       "       'BANGLADESH', 'BAHRAIN', 'PAKISTAN', 'TURKEY', 'INDONESIA',\n",
       "       'QATAR'], dtype=object)"
      ]
     },
     "execution_count": 8,
     "metadata": {},
     "output_type": "execute_result"
    }
   ],
   "source": [
    "Data_Islamic['country'].unique()"
   ]
  },
  {
   "cell_type": "code",
   "execution_count": 9,
   "id": "b6a33555",
   "metadata": {},
   "outputs": [],
   "source": [
    "country = ['UNITED ARAB EMIRATES', 'MALAYSIA', 'KUWAIT', 'SAUDI ARABIA',\n",
    "       'BANGLADESH', 'BAHRAIN', 'PAKISTAN', 'TURKEY', 'INDONESIA',\n",
    "       'QATAR']\n",
    "dict_money_islamic_bank = {}\n",
    "for i in country:\n",
    "    sum = Data_Islamic[Data_Islamic['country']==i]['Total_asset_in_million_USD'].sum()\n",
    "    dict_money_islamic_bank[i] = sum\n",
    "    \n",
    "    "
   ]
  },
  {
   "cell_type": "code",
   "execution_count": 10,
   "id": "ace5f3e7",
   "metadata": {},
   "outputs": [
    {
     "data": {
      "text/plain": [
       "{'UNITED ARAB EMIRATES': 105206.125,\n",
       " 'MALAYSIA': 156863.40462500002,\n",
       " 'KUWAIT': 85687.49999999999,\n",
       " 'SAUDI ARABIA': 133428.62099999998,\n",
       " 'BANGLADESH': 19828.953290039062,\n",
       " 'BAHRAIN': 14883.582374999998,\n",
       " 'PAKISTAN': 7319.323625,\n",
       " 'TURKEY': 44839.639500000005,\n",
       " 'INDONESIA': 14015.46040625,\n",
       " 'QATAR': 58955.58}"
      ]
     },
     "execution_count": 10,
     "metadata": {},
     "output_type": "execute_result"
    }
   ],
   "source": [
    "dict_money_islamic_bank"
   ]
  },
  {
   "cell_type": "code",
   "execution_count": 11,
   "id": "c4cbc028",
   "metadata": {},
   "outputs": [],
   "source": [
    "Data_Commercial_Bank = Data[Data['specialisation'] == 'Commercial Banks']"
   ]
  },
  {
   "cell_type": "code",
   "execution_count": 12,
   "id": "fc48b389",
   "metadata": {},
   "outputs": [
    {
     "data": {
      "text/html": [
       "<div>\n",
       "<style scoped>\n",
       "    .dataframe tbody tr th:only-of-type {\n",
       "        vertical-align: middle;\n",
       "    }\n",
       "\n",
       "    .dataframe tbody tr th {\n",
       "        vertical-align: top;\n",
       "    }\n",
       "\n",
       "    .dataframe thead th {\n",
       "        text-align: right;\n",
       "    }\n",
       "</style>\n",
       "<table border=\"1\" class=\"dataframe\">\n",
       "  <thead>\n",
       "    <tr style=\"text-align: right;\">\n",
       "      <th></th>\n",
       "      <th>id_bank</th>\n",
       "      <th>specialisation</th>\n",
       "      <th>country</th>\n",
       "      <th>bank_Name</th>\n",
       "      <th>Total_asset_in_million_USD</th>\n",
       "      <th>ROE</th>\n",
       "    </tr>\n",
       "  </thead>\n",
       "  <tbody>\n",
       "    <tr>\n",
       "      <th>0</th>\n",
       "      <td>2</td>\n",
       "      <td>Commercial Banks</td>\n",
       "      <td>BANGLADESH</td>\n",
       "      <td>AB Bank Ltd</td>\n",
       "      <td>3204.829000</td>\n",
       "      <td>7.140000</td>\n",
       "    </tr>\n",
       "    <tr>\n",
       "      <th>1</th>\n",
       "      <td>5</td>\n",
       "      <td>Commercial Banks</td>\n",
       "      <td>UNITED ARAB EMIRATES</td>\n",
       "      <td>Abu Dhabi Commercial Bank</td>\n",
       "      <td>55553.300000</td>\n",
       "      <td>19.969999</td>\n",
       "    </tr>\n",
       "    <tr>\n",
       "      <th>3</th>\n",
       "      <td>9</td>\n",
       "      <td>Commercial Banks</td>\n",
       "      <td>MALAYSIA</td>\n",
       "      <td>Affin Bank</td>\n",
       "      <td>13829.385000</td>\n",
       "      <td>10.730000</td>\n",
       "    </tr>\n",
       "    <tr>\n",
       "      <th>5</th>\n",
       "      <td>12</td>\n",
       "      <td>Commercial Banks</td>\n",
       "      <td>QATAR</td>\n",
       "      <td>Ahli Bank QSC</td>\n",
       "      <td>8620.989000</td>\n",
       "      <td>15.510000</td>\n",
       "    </tr>\n",
       "    <tr>\n",
       "      <th>6</th>\n",
       "      <td>13</td>\n",
       "      <td>Commercial Banks</td>\n",
       "      <td>BAHRAIN</td>\n",
       "      <td>Ahli United Bank BSC</td>\n",
       "      <td>33444.900000</td>\n",
       "      <td>14.680000</td>\n",
       "    </tr>\n",
       "    <tr>\n",
       "      <th>...</th>\n",
       "      <td>...</td>\n",
       "      <td>...</td>\n",
       "      <td>...</td>\n",
       "      <td>...</td>\n",
       "      <td>...</td>\n",
       "      <td>...</td>\n",
       "    </tr>\n",
       "    <tr>\n",
       "      <th>233</th>\n",
       "      <td>343</td>\n",
       "      <td>Commercial Banks</td>\n",
       "      <td>PAKISTAN</td>\n",
       "      <td>United Bank Limited</td>\n",
       "      <td>11063.361000</td>\n",
       "      <td>20.580000</td>\n",
       "    </tr>\n",
       "    <tr>\n",
       "      <th>234</th>\n",
       "      <td>344</td>\n",
       "      <td>Commercial Banks</td>\n",
       "      <td>BANGLADESH</td>\n",
       "      <td>United Commercial Bank Ltd</td>\n",
       "      <td>3376.845750</td>\n",
       "      <td>17.290001</td>\n",
       "    </tr>\n",
       "    <tr>\n",
       "      <th>235</th>\n",
       "      <td>345</td>\n",
       "      <td>Commercial Banks</td>\n",
       "      <td>MALAYSIA</td>\n",
       "      <td>United Overseas Bank (Malaysia) Bhd.</td>\n",
       "      <td>26903.062000</td>\n",
       "      <td>19.629999</td>\n",
       "    </tr>\n",
       "    <tr>\n",
       "      <th>236</th>\n",
       "      <td>346</td>\n",
       "      <td>Commercial Banks</td>\n",
       "      <td>BANGLADESH</td>\n",
       "      <td>Uttara Bank Limited</td>\n",
       "      <td>1786.650125</td>\n",
       "      <td>12.160000</td>\n",
       "    </tr>\n",
       "    <tr>\n",
       "      <th>237</th>\n",
       "      <td>349</td>\n",
       "      <td>Commercial Banks</td>\n",
       "      <td>TURKEY</td>\n",
       "      <td>Yapi Ve Kredi Bankasi A.S.</td>\n",
       "      <td>78070.360000</td>\n",
       "      <td>10.220000</td>\n",
       "    </tr>\n",
       "  </tbody>\n",
       "</table>\n",
       "<p>179 rows × 6 columns</p>\n",
       "</div>"
      ],
      "text/plain": [
       "     id_bank    specialisation               country  \\\n",
       "0          2  Commercial Banks            BANGLADESH   \n",
       "1          5  Commercial Banks  UNITED ARAB EMIRATES   \n",
       "3          9  Commercial Banks              MALAYSIA   \n",
       "5         12  Commercial Banks                 QATAR   \n",
       "6         13  Commercial Banks               BAHRAIN   \n",
       "..       ...               ...                   ...   \n",
       "233      343  Commercial Banks              PAKISTAN   \n",
       "234      344  Commercial Banks            BANGLADESH   \n",
       "235      345  Commercial Banks              MALAYSIA   \n",
       "236      346  Commercial Banks            BANGLADESH   \n",
       "237      349  Commercial Banks                TURKEY   \n",
       "\n",
       "                                bank_Name  Total_asset_in_million_USD  \\\n",
       "0                             AB Bank Ltd                 3204.829000   \n",
       "1               Abu Dhabi Commercial Bank                55553.300000   \n",
       "3                              Affin Bank                13829.385000   \n",
       "5                           Ahli Bank QSC                 8620.989000   \n",
       "6                    Ahli United Bank BSC                33444.900000   \n",
       "..                                    ...                         ...   \n",
       "233                   United Bank Limited                11063.361000   \n",
       "234            United Commercial Bank Ltd                 3376.845750   \n",
       "235  United Overseas Bank (Malaysia) Bhd.                26903.062000   \n",
       "236                   Uttara Bank Limited                 1786.650125   \n",
       "237            Yapi Ve Kredi Bankasi A.S.                78070.360000   \n",
       "\n",
       "           ROE  \n",
       "0     7.140000  \n",
       "1    19.969999  \n",
       "3    10.730000  \n",
       "5    15.510000  \n",
       "6    14.680000  \n",
       "..         ...  \n",
       "233  20.580000  \n",
       "234  17.290001  \n",
       "235  19.629999  \n",
       "236  12.160000  \n",
       "237  10.220000  \n",
       "\n",
       "[179 rows x 6 columns]"
      ]
     },
     "execution_count": 12,
     "metadata": {},
     "output_type": "execute_result"
    }
   ],
   "source": [
    "Data_Commercial_Bank"
   ]
  },
  {
   "cell_type": "code",
   "execution_count": 13,
   "id": "43df4cb7",
   "metadata": {},
   "outputs": [
    {
     "data": {
      "text/plain": [
       "array(['BANGLADESH', 'UNITED ARAB EMIRATES', 'MALAYSIA', 'QATAR',\n",
       "       'BAHRAIN', 'TURKEY', 'KUWAIT', 'PAKISTAN', 'SAUDI ARABIA',\n",
       "       'INDONESIA'], dtype=object)"
      ]
     },
     "execution_count": 13,
     "metadata": {},
     "output_type": "execute_result"
    }
   ],
   "source": [
    "Data_Commercial_Bank['country'].unique()"
   ]
  },
  {
   "cell_type": "code",
   "execution_count": 14,
   "id": "5cc45bcf",
   "metadata": {},
   "outputs": [],
   "source": [
    "CountryC = ['BANGLADESH', 'UNITED ARAB EMIRATES', 'MALAYSIA', 'QATAR',\n",
    "       'BAHRAIN', 'TURKEY', 'KUWAIT', 'PAKISTAN', 'SAUDI ARABIA',\n",
    "       'INDONESIA']\n",
    "dict_money_commercial_bank = {}\n",
    "for i in CountryC:\n",
    "    sum = Data_Commercial_Bank[Data_Commercial_Bank['country']==i]['Total_asset_in_million_USD'].sum()\n",
    "    dict_money_commercial_bank[i] = sum"
   ]
  },
  {
   "cell_type": "code",
   "execution_count": 15,
   "id": "9236d77e",
   "metadata": {},
   "outputs": [
    {
     "data": {
      "text/plain": [
       "{'BANGLADESH': 54267.9235625,\n",
       " 'UNITED ARAB EMIRATES': 428259.7312500001,\n",
       " 'MALAYSIA': 545158.6005625,\n",
       " 'QATAR': 217316.27800000002,\n",
       " 'BAHRAIN': 51627.346875,\n",
       " 'TURKEY': 773895.6575,\n",
       " 'KUWAIT': 145417.35100000002,\n",
       " 'PAKISTAN': 98982.7054375,\n",
       " 'SAUDI ARABIA': 426177.72400000005,\n",
       " 'INDONESIA': 384063.457546875}"
      ]
     },
     "execution_count": 15,
     "metadata": {},
     "output_type": "execute_result"
    }
   ],
   "source": [
    "dict_money_commercial_bank"
   ]
  },
  {
   "cell_type": "code",
   "execution_count": 16,
   "id": "58cb6bcb",
   "metadata": {},
   "outputs": [
    {
     "data": {
      "text/plain": [
       "{'UNITED ARAB EMIRATES': 105206.125,\n",
       " 'MALAYSIA': 156863.40462500002,\n",
       " 'KUWAIT': 85687.49999999999,\n",
       " 'SAUDI ARABIA': 133428.62099999998,\n",
       " 'BANGLADESH': 19828.953290039062,\n",
       " 'BAHRAIN': 14883.582374999998,\n",
       " 'PAKISTAN': 7319.323625,\n",
       " 'TURKEY': 44839.639500000005,\n",
       " 'INDONESIA': 14015.46040625,\n",
       " 'QATAR': 58955.58}"
      ]
     },
     "execution_count": 16,
     "metadata": {},
     "output_type": "execute_result"
    }
   ],
   "source": [
    "dict_money_islamic_bank"
   ]
  },
  {
   "cell_type": "code",
   "execution_count": 17,
   "id": "d2de6458",
   "metadata": {},
   "outputs": [
    {
     "data": {
      "text/plain": [
       "2      23.219999\n",
       "8       6.660000\n",
       "11      2.260000\n",
       "102    21.400000\n",
       "106     8.380000\n",
       "161    23.719999\n",
       "211     8.360000\n",
       "Name: ROE, dtype: float64"
      ]
     },
     "execution_count": 17,
     "metadata": {},
     "output_type": "execute_result"
    }
   ],
   "source": [
    "Data_Islamic[Data_Islamic['country'] == 'UNITED ARAB EMIRATES' ]['ROE']"
   ]
  },
  {
   "cell_type": "code",
   "execution_count": 18,
   "id": "f19f3989",
   "metadata": {},
   "outputs": [
    {
     "data": {
      "text/plain": [
       "1      19.969999\n",
       "28     11.150000\n",
       "81      6.590000\n",
       "94      5.810000\n",
       "95     16.360001\n",
       "107    14.480000\n",
       "112    20.209999\n",
       "131    13.430000\n",
       "144    15.730000\n",
       "152    17.379999\n",
       "154    19.100000\n",
       "157    22.180000\n",
       "158     8.350000\n",
       "231    14.300000\n",
       "232    22.570000\n",
       "Name: ROE, dtype: float64"
      ]
     },
     "execution_count": 18,
     "metadata": {},
     "output_type": "execute_result"
    }
   ],
   "source": [
    "Data_Commercial_Bank[Data_Commercial_Bank['country'] == 'UNITED ARAB EMIRATES' ]['ROE']"
   ]
  },
  {
   "cell_type": "code",
   "execution_count": 19,
   "id": "69415ff3",
   "metadata": {},
   "outputs": [],
   "source": [
    "import matplotlib.pyplot as plt\n"
   ]
  },
  {
   "cell_type": "code",
   "execution_count": 24,
   "id": "c261dcbd",
   "metadata": {},
   "outputs": [
    {
     "data": {
      "text/html": [
       "<div>\n",
       "<style scoped>\n",
       "    .dataframe tbody tr th:only-of-type {\n",
       "        vertical-align: middle;\n",
       "    }\n",
       "\n",
       "    .dataframe tbody tr th {\n",
       "        vertical-align: top;\n",
       "    }\n",
       "\n",
       "    .dataframe thead th {\n",
       "        text-align: right;\n",
       "    }\n",
       "</style>\n",
       "<table border=\"1\" class=\"dataframe\">\n",
       "  <thead>\n",
       "    <tr style=\"text-align: right;\">\n",
       "      <th></th>\n",
       "      <th>id_bank</th>\n",
       "      <th>Total_asset_in_million_USD</th>\n",
       "      <th>ROE</th>\n",
       "    </tr>\n",
       "  </thead>\n",
       "  <tbody>\n",
       "    <tr>\n",
       "      <th>count</th>\n",
       "      <td>179.000000</td>\n",
       "      <td>179.000000</td>\n",
       "      <td>179.000000</td>\n",
       "    </tr>\n",
       "    <tr>\n",
       "      <th>mean</th>\n",
       "      <td>183.351955</td>\n",
       "      <td>17459.032267</td>\n",
       "      <td>11.907151</td>\n",
       "    </tr>\n",
       "    <tr>\n",
       "      <th>std</th>\n",
       "      <td>101.235259</td>\n",
       "      <td>27856.571757</td>\n",
       "      <td>6.969964</td>\n",
       "    </tr>\n",
       "    <tr>\n",
       "      <th>min</th>\n",
       "      <td>2.000000</td>\n",
       "      <td>151.149109</td>\n",
       "      <td>-25.830000</td>\n",
       "    </tr>\n",
       "    <tr>\n",
       "      <th>25%</th>\n",
       "      <td>95.000000</td>\n",
       "      <td>1780.794063</td>\n",
       "      <td>8.660000</td>\n",
       "    </tr>\n",
       "    <tr>\n",
       "      <th>50%</th>\n",
       "      <td>176.000000</td>\n",
       "      <td>4076.965750</td>\n",
       "      <td>12.240000</td>\n",
       "    </tr>\n",
       "    <tr>\n",
       "      <th>75%</th>\n",
       "      <td>275.000000</td>\n",
       "      <td>17920.027000</td>\n",
       "      <td>15.865000</td>\n",
       "    </tr>\n",
       "    <tr>\n",
       "      <th>max</th>\n",
       "      <td>349.000000</td>\n",
       "      <td>133614.488000</td>\n",
       "      <td>29.549999</td>\n",
       "    </tr>\n",
       "  </tbody>\n",
       "</table>\n",
       "</div>"
      ],
      "text/plain": [
       "          id_bank  Total_asset_in_million_USD         ROE\n",
       "count  179.000000                  179.000000  179.000000\n",
       "mean   183.351955                17459.032267   11.907151\n",
       "std    101.235259                27856.571757    6.969964\n",
       "min      2.000000                  151.149109  -25.830000\n",
       "25%     95.000000                 1780.794063    8.660000\n",
       "50%    176.000000                 4076.965750   12.240000\n",
       "75%    275.000000                17920.027000   15.865000\n",
       "max    349.000000               133614.488000   29.549999"
      ]
     },
     "execution_count": 24,
     "metadata": {},
     "output_type": "execute_result"
    }
   ],
   "source": [
    "Data_Commercial_Bank.describe()"
   ]
  },
  {
   "cell_type": "code",
   "execution_count": 26,
   "id": "8dda86d1",
   "metadata": {},
   "outputs": [
    {
     "data": {
      "text/html": [
       "<div>\n",
       "<style scoped>\n",
       "    .dataframe tbody tr th:only-of-type {\n",
       "        vertical-align: middle;\n",
       "    }\n",
       "\n",
       "    .dataframe tbody tr th {\n",
       "        vertical-align: top;\n",
       "    }\n",
       "\n",
       "    .dataframe thead th {\n",
       "        text-align: right;\n",
       "    }\n",
       "</style>\n",
       "<table border=\"1\" class=\"dataframe\">\n",
       "  <thead>\n",
       "    <tr style=\"text-align: right;\">\n",
       "      <th></th>\n",
       "      <th>id_bank</th>\n",
       "      <th>Total_asset_in_million_USD</th>\n",
       "      <th>ROE</th>\n",
       "    </tr>\n",
       "  </thead>\n",
       "  <tbody>\n",
       "    <tr>\n",
       "      <th>count</th>\n",
       "      <td>59.000000</td>\n",
       "      <td>59.000000</td>\n",
       "      <td>59.000000</td>\n",
       "    </tr>\n",
       "    <tr>\n",
       "      <th>mean</th>\n",
       "      <td>151.932203</td>\n",
       "      <td>10864.884573</td>\n",
       "      <td>9.345254</td>\n",
       "    </tr>\n",
       "    <tr>\n",
       "      <th>std</th>\n",
       "      <td>105.045781</td>\n",
       "      <td>14490.189980</td>\n",
       "      <td>8.705430</td>\n",
       "    </tr>\n",
       "    <tr>\n",
       "      <th>min</th>\n",
       "      <td>6.000000</td>\n",
       "      <td>13.285540</td>\n",
       "      <td>-37.959999</td>\n",
       "    </tr>\n",
       "    <tr>\n",
       "      <th>25%</th>\n",
       "      <td>43.500000</td>\n",
       "      <td>2531.677000</td>\n",
       "      <td>5.310000</td>\n",
       "    </tr>\n",
       "    <tr>\n",
       "      <th>50%</th>\n",
       "      <td>153.000000</td>\n",
       "      <td>5678.279000</td>\n",
       "      <td>9.990000</td>\n",
       "    </tr>\n",
       "    <tr>\n",
       "      <th>75%</th>\n",
       "      <td>230.000000</td>\n",
       "      <td>12172.901000</td>\n",
       "      <td>14.280000</td>\n",
       "    </tr>\n",
       "    <tr>\n",
       "      <th>max</th>\n",
       "      <td>335.000000</td>\n",
       "      <td>82056.432000</td>\n",
       "      <td>23.719999</td>\n",
       "    </tr>\n",
       "  </tbody>\n",
       "</table>\n",
       "</div>"
      ],
      "text/plain": [
       "          id_bank  Total_asset_in_million_USD        ROE\n",
       "count   59.000000                   59.000000  59.000000\n",
       "mean   151.932203                10864.884573   9.345254\n",
       "std    105.045781                14490.189980   8.705430\n",
       "min      6.000000                   13.285540 -37.959999\n",
       "25%     43.500000                 2531.677000   5.310000\n",
       "50%    153.000000                 5678.279000   9.990000\n",
       "75%    230.000000                12172.901000  14.280000\n",
       "max    335.000000                82056.432000  23.719999"
      ]
     },
     "execution_count": 26,
     "metadata": {},
     "output_type": "execute_result"
    }
   ],
   "source": [
    "Data_Islamic.describe()"
   ]
  },
  {
   "cell_type": "code",
   "execution_count": 28,
   "id": "990e71e8",
   "metadata": {},
   "outputs": [],
   "source": [
    "Data_Islamic.to_csv('Islamic.csv')"
   ]
  },
  {
   "cell_type": "code",
   "execution_count": 30,
   "id": "53a5bc19",
   "metadata": {},
   "outputs": [],
   "source": [
    "Data_Commercial_Bank.to_csv('Commercial.csv')"
   ]
  },
  {
   "cell_type": "code",
   "execution_count": 31,
   "id": "db5d7b93",
   "metadata": {},
   "outputs": [],
   "source": [
    "from sklearn.linear_model import LinearRegression"
   ]
  },
  {
   "cell_type": "code",
   "execution_count": 32,
   "id": "8ce5b9a0",
   "metadata": {},
   "outputs": [],
   "source": [
    "Linear = LinearRegression()\n"
   ]
  },
  {
   "cell_type": "code",
   "execution_count": null,
   "id": "90d0de8a",
   "metadata": {},
   "outputs": [],
   "source": []
  }
 ],
 "metadata": {
  "kernelspec": {
   "display_name": "Python 3 (ipykernel)",
   "language": "python",
   "name": "python3"
  },
  "language_info": {
   "codemirror_mode": {
    "name": "ipython",
    "version": 3
   },
   "file_extension": ".py",
   "mimetype": "text/x-python",
   "name": "python",
   "nbconvert_exporter": "python",
   "pygments_lexer": "ipython3",
   "version": "3.9.12"
  }
 },
 "nbformat": 4,
 "nbformat_minor": 5
}
